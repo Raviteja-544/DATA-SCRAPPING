{
  "nbformat": 4,
  "nbformat_minor": 0,
  "metadata": {
    "colab": {
      "provenance": [],
      "authorship_tag": "ABX9TyPnVaZ6q/HLq1oIsVKhdK+Y",
      "include_colab_link": true
    },
    "kernelspec": {
      "name": "python3",
      "display_name": "Python 3"
    },
    "language_info": {
      "name": "python"
    }
  },
  "cells": [
    {
      "cell_type": "markdown",
      "metadata": {
        "id": "view-in-github",
        "colab_type": "text"
      },
      "source": [
        "<a href=\"https://colab.research.google.com/github/Raviteja-544/DATA-SCRAPPING/blob/main/Datascrapping.ipynb\" target=\"_parent\"><img src=\"https://colab.research.google.com/assets/colab-badge.svg\" alt=\"Open In Colab\"/></a>"
      ]
    },
    {
      "cell_type": "code",
      "execution_count": null,
      "metadata": {
        "id": "7kHN5Ic1xnUs"
      },
      "outputs": [],
      "source": [
        "import requests\n",
        "from bs4 import BeautifulSoup\n",
        "import csv\n",
        "import pandas as pd\n",
        "\n",
        "#data scrapping from flipkart\n",
        "url=\"https://www.flipkart.com/search?q=mobiles&as=on&as-show=on&otracker=AS_Query_TrendingAutoSuggest_1_0_na_na_na&otracker1=AS_Query_TrendingAutoSuggest_1_0_na_na_na&as-pos=1&as-type=TRENDING&suggestionId=mobiles&requestId=36e968c4-5495-4edb-98a6-db611a22855c\"\n",
        "\n",
        "req=requests.get(url)\n",
        "\n",
        "content=BeautifulSoup(req.content,\"html.parser\")\n",
        "titles=content.find_all('div',class_='_4rR01T')\n",
        "prices=content.find_all('div',class_=\"_30jeq3 _1_WHN1\")\n",
        "reviews=content.find_all('div',class_=\"_3LWZlK\")\n",
        "ratings=content.find_all('span',class_=\"83,056 Ratings \")\n",
        "\n",
        "mt=[]\n",
        "mp=[]\n",
        "mre=[]\n",
        "mr=[]\n",
        "\n",
        "\n",
        "for title,price,rev,reque in zip(titles,prices,reviews,ratings):\n",
        "  mt.append(titles.text)\n",
        "  mp.append(prices.text)\n",
        "  mre.append(reviews.text)\n",
        "  mr.append(ratings.text)\n",
        "\n",
        "\n",
        "  #saving data in csv\n",
        "d={\"mt\":mt,\"mp\":mp,\"mre\":mre,\"mr\":mr}\n",
        "model=pd.DataFrame(data=d)\n",
        "model.to_csv(\"mobilesdata.csv\")\n",
        "\n",
        "\n"
      ]
    }
  ]
}